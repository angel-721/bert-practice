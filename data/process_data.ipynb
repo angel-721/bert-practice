{
 "cells": [
  {
   "cell_type": "code",
   "execution_count": 1,
   "id": "e8cd96b9-8b4e-4954-abed-7270c53f7f42",
   "metadata": {},
   "outputs": [],
   "source": [
    "import pandas as pd\n",
    "import numpy as np"
   ]
  },
  {
   "cell_type": "code",
   "execution_count": 2,
   "id": "9655cbef-e72a-4501-b7c5-d8da8c740317",
   "metadata": {},
   "outputs": [],
   "source": [
    "# read unprocessed csv files\n",
    "train_data = pd.read_csv(\"./train.csv\")\n",
    "test_data = pd.read_csv(\"./test.csv\")"
   ]
  },
  {
   "cell_type": "code",
   "execution_count": 3,
   "id": "95bd1c37-d821-43fd-b135-720189683d2a",
   "metadata": {},
   "outputs": [],
   "source": [
    "# check unique genres\n",
    "genres = train_data['Genre'].unique()"
   ]
  },
  {
   "cell_type": "code",
   "execution_count": 4,
   "id": "3de1036e-891f-4586-a081-1503f3f5504f",
   "metadata": {},
   "outputs": [],
   "source": [
    "# Drop uneeded columns and rename remaining columns\n",
    "train_data = train_data[['Lyrics', 'Genre']]\n",
    "test_data = test_data[['Lyrics', 'Genre']]\n",
    "train_data = train_data.rename(columns={\"Lyrics\": \"lyrics\", \"Genre\": \"genre\"})\n",
    "test_data = test_data.rename(columns={\"Lyrics\": \"lyrics\", \"Genre\": \"genre\"})"
   ]
  },
  {
   "cell_type": "code",
   "execution_count": 6,
   "id": "fe503a8d-f859-4e9a-b9f0-9f35662f412b",
   "metadata": {},
   "outputs": [
    {
     "data": {
      "text/plain": [
       "0          True\n",
       "1          True\n",
       "2          True\n",
       "3          True\n",
       "4          True\n",
       "          ...  \n",
       "290178    False\n",
       "290179    False\n",
       "290180    False\n",
       "290181    False\n",
       "290182    False\n",
       "Name: genre, Length: 290183, dtype: bool"
      ]
     },
     "execution_count": 6,
     "metadata": {},
     "output_type": "execute_result"
    }
   ],
   "source": [
    "train_data['genre'] == 'Rock'"
   ]
  },
  {
   "cell_type": "code",
   "execution_count": 35,
   "id": "9029d82a-09c4-4fc5-86fe-21544a90af1d",
   "metadata": {},
   "outputs": [],
   "source": [
    "# save as processes csv\n",
    "train_data.to_csv('trainp.csv')\n",
    "test_data.to_csv('testp.csv')"
   ]
  }
 ],
 "metadata": {
  "kernelspec": {
   "display_name": "Python 3 (ipykernel)",
   "language": "python",
   "name": "python3"
  },
  "language_info": {
   "codemirror_mode": {
    "name": "ipython",
    "version": 3
   },
   "file_extension": ".py",
   "mimetype": "text/x-python",
   "name": "python",
   "nbconvert_exporter": "python",
   "pygments_lexer": "ipython3",
   "version": "3.10.12"
  }
 },
 "nbformat": 4,
 "nbformat_minor": 5
}
