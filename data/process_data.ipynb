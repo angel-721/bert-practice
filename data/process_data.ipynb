{
 "cells": [
  {
   "cell_type": "code",
   "execution_count": 31,
   "id": "e8cd96b9-8b4e-4954-abed-7270c53f7f42",
   "metadata": {},
   "outputs": [],
   "source": [
    "import pandas as pd\n",
    "import numpy as np"
   ]
  },
  {
   "cell_type": "code",
   "execution_count": 32,
   "id": "9655cbef-e72a-4501-b7c5-d8da8c740317",
   "metadata": {},
   "outputs": [],
   "source": [
    "# read unprocessed csv files\n",
    "train_data = pd.read_csv(\"./train.csv\")\n",
    "test_data = pd.read_csv(\"./test.csv\")"
   ]
  },
  {
   "cell_type": "code",
   "execution_count": 33,
   "id": "95bd1c37-d821-43fd-b135-720189683d2a",
   "metadata": {},
   "outputs": [],
   "source": [
    "# check unique genres\n",
    "genres = train_data['Genre'].unique()"
   ]
  },
  {
   "cell_type": "code",
   "execution_count": 34,
   "id": "3de1036e-891f-4586-a081-1503f3f5504f",
   "metadata": {},
   "outputs": [
    {
     "data": {
      "text/html": [
       "<div>\n",
       "<style scoped>\n",
       "    .dataframe tbody tr th:only-of-type {\n",
       "        vertical-align: middle;\n",
       "    }\n",
       "\n",
       "    .dataframe tbody tr th {\n",
       "        vertical-align: top;\n",
       "    }\n",
       "\n",
       "    .dataframe thead th {\n",
       "        text-align: right;\n",
       "    }\n",
       "</style>\n",
       "<table border=\"1\" class=\"dataframe\">\n",
       "  <thead>\n",
       "    <tr style=\"text-align: right;\">\n",
       "      <th></th>\n",
       "      <th>lyrics</th>\n",
       "      <th>genre</th>\n",
       "    </tr>\n",
       "  </thead>\n",
       "  <tbody>\n",
       "    <tr>\n",
       "      <th>0</th>\n",
       "      <td>Most folks spend their days daydreaming of fin...</td>\n",
       "      <td>Hip-Hop</td>\n",
       "    </tr>\n",
       "    <tr>\n",
       "      <th>1</th>\n",
       "      <td>Take your cold hands and put them on my face\\n...</td>\n",
       "      <td>Indie</td>\n",
       "    </tr>\n",
       "    <tr>\n",
       "      <th>2</th>\n",
       "      <td>Are you ready it's time for war\\nWe'll break d...</td>\n",
       "      <td>Metal</td>\n",
       "    </tr>\n",
       "    <tr>\n",
       "      <th>3</th>\n",
       "      <td>You ask me why I change the color of my hair\\n...</td>\n",
       "      <td>Pop</td>\n",
       "    </tr>\n",
       "    <tr>\n",
       "      <th>4</th>\n",
       "      <td>Do you believe in magic in a young girl's hear...</td>\n",
       "      <td>Hip-Hop</td>\n",
       "    </tr>\n",
       "    <tr>\n",
       "      <th>...</th>\n",
       "      <td>...</td>\n",
       "      <td>...</td>\n",
       "    </tr>\n",
       "    <tr>\n",
       "      <th>7930</th>\n",
       "      <td>Tuesday night - 7:30\\nI hear a voice on the te...</td>\n",
       "      <td>Rock</td>\n",
       "    </tr>\n",
       "    <tr>\n",
       "      <th>7931</th>\n",
       "      <td>Elite forces cloaked in fur un sensitive to pa...</td>\n",
       "      <td>Metal</td>\n",
       "    </tr>\n",
       "    <tr>\n",
       "      <th>7932</th>\n",
       "      <td>[Dr. Dre]\\nJourney with me\\nInto the mind of a...</td>\n",
       "      <td>Hip-Hop</td>\n",
       "    </tr>\n",
       "    <tr>\n",
       "      <th>7933</th>\n",
       "      <td>You can a look a hurricane right in the eye.\\n...</td>\n",
       "      <td>Rock</td>\n",
       "    </tr>\n",
       "    <tr>\n",
       "      <th>7934</th>\n",
       "      <td>Deal not the truth till you find the proof\\nAn...</td>\n",
       "      <td>Rock</td>\n",
       "    </tr>\n",
       "  </tbody>\n",
       "</table>\n",
       "<p>7935 rows × 2 columns</p>\n",
       "</div>"
      ],
      "text/plain": [
       "                                                 lyrics    genre\n",
       "0     Most folks spend their days daydreaming of fin...  Hip-Hop\n",
       "1     Take your cold hands and put them on my face\\n...    Indie\n",
       "2     Are you ready it's time for war\\nWe'll break d...    Metal\n",
       "3     You ask me why I change the color of my hair\\n...      Pop\n",
       "4     Do you believe in magic in a young girl's hear...  Hip-Hop\n",
       "...                                                 ...      ...\n",
       "7930  Tuesday night - 7:30\\nI hear a voice on the te...     Rock\n",
       "7931  Elite forces cloaked in fur un sensitive to pa...    Metal\n",
       "7932  [Dr. Dre]\\nJourney with me\\nInto the mind of a...  Hip-Hop\n",
       "7933  You can a look a hurricane right in the eye.\\n...     Rock\n",
       "7934  Deal not the truth till you find the proof\\nAn...     Rock\n",
       "\n",
       "[7935 rows x 2 columns]"
      ]
     },
     "execution_count": 34,
     "metadata": {},
     "output_type": "execute_result"
    }
   ],
   "source": [
    "# Drop uneeded columns and rename remaining columns\n",
    "train_data = train_data[['Lyrics', 'Genre']]\n",
    "test_data = test_data[['Lyrics', 'Genre']]\n",
    "train_data.rename(columns={\"Lyrics\": \"lyrics\", \"Genre\": \"genre\"})\n",
    "test_data.rename(columns={\"Lyrics\": \"lyrics\", \"Genre\": \"genre\"})"
   ]
  },
  {
   "cell_type": "code",
   "execution_count": 35,
   "id": "9029d82a-09c4-4fc5-86fe-21544a90af1d",
   "metadata": {},
   "outputs": [],
   "source": [
    "# save as processes csv\n",
    "train_data.to_csv('trainp.csv')\n",
    "test_data.to_csv('testp.csv')"
   ]
  },
  {
   "cell_type": "code",
   "execution_count": null,
   "id": "80565127-7e03-492c-898a-43e10195e25b",
   "metadata": {},
   "outputs": [],
   "source": []
  }
 ],
 "metadata": {
  "kernelspec": {
   "display_name": "Python 3 (ipykernel)",
   "language": "python",
   "name": "python3"
  },
  "language_info": {
   "codemirror_mode": {
    "name": "ipython",
    "version": 3
   },
   "file_extension": ".py",
   "mimetype": "text/x-python",
   "name": "python",
   "nbconvert_exporter": "python",
   "pygments_lexer": "ipython3",
   "version": "3.10.12"
  }
 },
 "nbformat": 4,
 "nbformat_minor": 5
}
